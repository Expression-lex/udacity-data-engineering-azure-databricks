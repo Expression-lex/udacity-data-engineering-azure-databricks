{
 "cells": [
  {
   "cell_type": "markdown",
   "metadata": {},
   "source": [
    "## Spark SQL tables based on Delta format"
   ]
  },
  {
   "cell_type": "code",
   "execution_count": null,
   "metadata": {},
   "outputs": [],
   "source": [
    "#Load_payments\n",
    "if(spark._jsparkSession.catalog().tableExists('default', 'silver_payments_data') == True):\n",
    "    spark.sql(\"DROP TABLE IF EXISTS silver_payments_data\")\n",
    "spark.sql(\"CREATE TABLE silver_payment_data USING DELTA LOCATION '/delta/bronze_payments\")"
   ]
  },
  {
   "cell_type": "code",
   "execution_count": null,
   "metadata": {},
   "outputs": [],
   "source": [
    "#Load_riders\n",
    "if(spark._jsparkSession.catalog().tableExists('default', 'silver_riders_data') == True):\n",
    "    spark.sql(\"DROP TABLE IF EXISTS silver_riders_data\")\n",
    "spark.sql(\"CREATE TABLE silver_riders_data USING DELTA LOCATION '/delta/bronze_riders\")"
   ]
  },
  {
   "cell_type": "code",
   "execution_count": null,
   "metadata": {},
   "outputs": [],
   "source": [
    "#Load_stations\n",
    "if(spark._jsparkSession.catalog().tableExists('default', 'silver_stations_data') == True):\n",
    "    spark.sql(\"DROP TABLE IF EXISTS silver_stations_data\")\n",
    "spark.sql(\"CREATE TABLE silver_stations_data USING DELTA LOCATION '/delta/bronze_stations\")"
   ]
  },
  {
   "cell_type": "code",
   "execution_count": null,
   "metadata": {},
   "outputs": [],
   "source": [
    "#Load_trips\n",
    "if(spark._jsparkSession.catalog().tableExists('default', 'silver_trips_data') == True):\n",
    "    spark.sql(\"DROP TABLE IF EXISTS silver_trips_data\")\n",
    "spark.sql(\"CREATE TABLE silver_trips_data USING DELTA LOCATION '/delta/bronze_trips\")"
   ]
  }
 ],
 "metadata": {
  "language_info": {
   "name": "python"
  }
 },
 "nbformat": 4,
 "nbformat_minor": 2
}
